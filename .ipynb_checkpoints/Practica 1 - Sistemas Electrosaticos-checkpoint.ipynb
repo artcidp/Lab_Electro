{
 "cells": [
  {
   "cell_type": "markdown",
   "metadata": {},
   "source": [
    "# Sistema Electrostáticos"
   ]
  },
  {
   "cell_type": "markdown",
   "metadata": {},
   "source": [
    "En este ensayo discutimos las observaciones derivadas de realizar experimentos con sistemas electrostáticos simples como, por ejemplo, globos, cintas adhesivas y esferas de unicel cargadas. Adicionalmente comparamos y contrastamos estas observaciones con las propias de los sistemas complejos, basándonos la definición que dan Davis B. y Summara D. en su libro *Complexity and Education*. También, hacermos una comparación con las inferencias que se utilizan para desarollar la teoría usual en un curso de electromagnetismo. "
   ]
  },
  {
   "cell_type": "markdown",
   "metadata": {},
   "source": [
    "**Comenzamos con las propiedades de los sistemas electrostáticos que los caracterizan como sistemas complejos.**"
   ]
  },
  {
   "cell_type": "markdown",
   "metadata": {},
   "source": [
    "## 1) Self-Organized Systems"
   ]
  },
  {
   "cell_type": "markdown",
   "metadata": {},
   "source": [
    "Al realizar distintos experimentos, vimos que el sistema que estudiamos - en este caso un sistema electrostático - tiende a organizarse sin interacciones externas.\n",
    "\n",
    "**Observamos que un material \"cargado\" no presenta características distintas a las usuales, a menos que lo pongamos a interactuar con otro objeto.** *(Usamos entrecomillada la palabra cargado porque es la propiedad que le atribuímos al objeto que adquiere después de frotarlo contra piel de conejo, cabello, algodón, etc.)* Esto se vio principalmente con el globo, pues después de frotarlo no se veía un cambio aparente en el comportamiento del globo por sí solo. En cambio, al momento de acercarlo a cabello, pedazos de papel o incluso un chorro de agua, el sistema (comprendido por el globo y alguno de estos objetos) presentaba una fuerza de atracción o repulsión visible.\n",
    "\n",
    "\n",
    "**Si tenemos un objeto previamente cargado y está interaccionando con objetos estáticos, el sistema tiende a orientarse de determinada manera.** Regresando al experimento del globo, al cargarse el globo y acercarse a los papeles se observó que los papeles se orientaron de cierta manera. Se acomodaban de manera radial en la dirección del globo, por lo que podemos hablar de una interacción en el sistema.\n",
    "\n",
    "** Vimos que al cargar objetos de distinta forma, la interacción entre ellos y otros objetos no era la misma en todos los casos, por lo que la geometría afecta la manera en la que se relacionan. ** Cargamos un globo, un par de cintas adhesivas y un tubo de PVC y observamos que la manera en la que los pedazos de papel se sentían atraídos o repelidos no era la misma para los tres objetos. Como la geometría es intrínseca al objeto, vemos que es determinante en la forma de interacción del sistema.\n",
    "\n",
    "** Al cargar un objeto y dejarlo interaccionando notamos que si nosotros dejábamos de modificar el sistema, adquiría una configuración dada y al paso del tiempo se descargaba. ** Pudimos ver que las interacciones entre el sistema no estaban condicionadas por que modificáramos constantemente el mismo, pues bastó darle una condición inicial para que se dieran las interacciones y que se modificara la organización del sistema.\n",
    "\n",
    "### *¿Necesita de otros cuerpos para interaccionar?*\n",
    "\n",
    "Después de estas observaciones,podemos inferir que un objeto \"cargado\" interacciona con otros objetos de manera autónoma (sin necesidad de un interventor) y que esta interacción depende tanto del objeto cargado como del resto del sistema; la existencia de ambos es necesaria para la presencia de interacciones y dicha interacción depende de las propiedades de cada objeto \"cargado\" y de su entorno.\n",
    "Esto nos recuerda a la definición de la propiedad auto-organizadora (*Self-organized*) que enuncia Davis:\n",
    "> \"Sistemas complejos surgen de la acción de agentes autónomos que se interligan y son co-dependientes.\""
   ]
  },
  {
   "cell_type": "markdown",
   "metadata": {},
   "source": [
    "## 2) Bottom - Up Emergent"
   ]
  },
  {
   "cell_type": "markdown",
   "metadata": {},
   "source": [
    "**Observamos que al tener configuraciones iniciales distintas, se sufrían diferentes efectos. **\n",
    "\n",
    "No fue lo mismo tener tres pelotas de unicel cargadas (o tres pedazos de cinta adhesiva cargados) en un arreglo triangular a tenerlas en un arreglo en linea. La manera en la que un objeto tanto interno como externo al sistema compuesto por los tres cuerpos actuaba era distinta.\n",
    "\n",
    "**Mientras mayor fuera el volumen del objeto cargado, mayor era el efecto que producía. **\n",
    "\n",
    "Vimos que dos globos cargados inflados a distintos tamaños producían un efecto de distintas magnitudes. A mayor tamaño, mayor intensidad en la interacción con pedazos de papel.\n",
    "\n",
    "**Mientras más se frotaban los objetos, el efecto de interacción era más intenso**\n",
    "\n",
    "Observamos que, al frotar un par de globos con el cabello, estos se repelían con una mayor fuerza. Sin embargo, este efecto tenía un límite pues al frotarlo 30 veces o más no se notaba ningún cambio en la intensidad de la interacción.\n",
    "\n",
    "**El comportamiento global de los sistemas depeden de las interacciones de sus elementos**\n",
    "\n",
    "Se observó que cada objeto cargado, por ejemplo un globo o una esfera de unicel, se comportaba de manera distinta al acercarlo a otro objeto cargado de control al variar propiedades como la masa, forma física y material constituyente. Del mismo modo, la relación con otros elementos del sistema afecta la forma en que se mueven sus componentes. Observamos que esta interacción cambia con la distancia, el tiempo que se dejen en reposo los cuerpos después de cargarlos, al igual que el contacto con otros elementos del sistema.\n",
    "\n",
    "**La interacción no sólo se daba entre un objeto cargado y uno \"que aparentemente no lo estuviera\", también se tenía que dos objetos cargados interactuaban entre sí. **\n",
    "\n",
    "Se observó que dos cintas cargadas no sólo interactuaban con las partículas de papel, sino que también lo hacían entre ellas. Por ende, la acción total en el sistema no sólo es la suma de la de los objetos cargados sobre inertes, también es la de objetos cargados con otros objetos cargados.\n",
    "\n",
    "### *¿Qué propicia este \"individualismo\"?*\n",
    "\n",
    "Es interesante notar que a pesar de ser un conjunto de objetos los que conforman nuestro sistema, se presentasen distorsiones propiciadas por objetos en solitario. Esto nos dice que podemos considerar al efecto global como un conjunto de efectos particulares. De estas observaciones, podemos ver que el sistema presenta la característica de *bottom up emergent*, pues el efecto total en el sistema toma en consideración más que sólo la interacción individual de los objetos cargados. Además, cada objeto es sujeto de su propia acción, por lo que su comportamiento no es regido por un ente central. De esta manera, si obtuviesemos una regla general para describir el comportamiento de cada uno de los elementos del sistema, tendríamos que esta aplica de manera distinta a cada uno de dichos elementos.\n",
    "\n",
    "La discusión anterior nos permite decir que los sistemas electrostáticos tienen una interacción \"desde abajo\", la cual Sumara y Davis definen de la siguiente manera:\n",
    "\n",
    "> \"Las unidades complejas presentan propiedades que exceden la suma de las capacidades de las partes individuales, pero estas habilidades no dependen de un organizador central.\""
   ]
  },
  {
   "cell_type": "markdown",
   "metadata": {},
   "source": [
    "## 3) Ambiguously Bounded"
   ]
  },
  {
   "cell_type": "markdown",
   "metadata": {},
   "source": [
    "Una característica de los sistemas que estudiamos (y que prontamente salió a flote) fue la de la incapacidad de mantener cargados los objetos por largos períodos de tiempo. A medida que continuábamos con los experimentos, la interacción del sistema con el entorno donde trabajábamos era cada vez más notoria (pues las cosas perdían su capacidad de interacción conforme pasaba el tiempo) y nos hizo preguntarnos: ¿Hasta dónde termina el sistema?\n",
    "\n",
    "**El sistema no presentaba acción, a menos de que un factor externo impusiera una condición inicial en él.**\n",
    "\n",
    "Vimos que esto conlleva a cierto intercambio de información entre el sistema que definimos y sus alrededores (que nos incluye a nosotros).\n",
    "Esto se apreció bien cuando trabajamos con un globo inflado. Lo cargamos frotándolo con otra superficie (nuestro cabello). Es decir, el sistema interactuó con nosotros para cargarse y luego interactuó con pedacitos de papel o un chorro de agua mientras se descargaba.\n",
    "\n",
    "** Con el paso del tiempo, las interacciones dentro del sistema disminuían naturalmente. **\n",
    "\n",
    "Notamos que no era necesario el contacto físico directo con los elementos del sistema para propiciar esta disminución: bastaba esperar. Cabe recalcar que en días de lluvia - con mayor humedad - esto se daba más rápido, lo que nos habla de una dependencia de las condiciones del entorno que lo rodea.\n",
    "Por ejemplo, al trabajar con pelotas de unicel, supondremos que los alrededores ya incluyen a todo el aire cerca de ellas, entonces la carga que tienen se disipará en él. Incluso pudimos aprovechar este fenómeno al utilizar la humedad de nuestro aliento para poder descargar las esferas.\n",
    "\n",
    "### *¿Dónde termina el sistema y dónde comienzan sus alrededores?*\n",
    "\n",
    "Los sistemas con los que trabajamos estaban conformados por varias entidades separadas, por lo que nosotros supondremos que la frontera de todo el sistema será la unión de las fronteras de cada componente individual del mismo (suponiendo que la frontera de un componente individual es donde el componente termina, materialmente hablando).\n",
    "\n",
    "Si buscamos dar una definición de frontera física definitiva para nuestro sistema electrostático, encontramos problemas. Observando la interacción del globo cargado con otros objetos o la de las pelotas de unicel, nos damos cuenta de que nuestra definición no funciona, pues los objetos no están en contacto directo. ¿Cómo pueden interactuar dos sistemas si no están en contacto entre sí? En éste senteido, las fronteras de un sistema de ese estilo son ambiguas, ya que dependen del contexto de la situación bajo la cual se esté analizando.\n",
    "\n",
    "Esto resuena con la definición de *fronteras ambiguas* que dan Davis y Sumara:\n",
    "> \"Las formas complejas son abiertas - en el sentido de que continuamente en intercambio de materia y energía con sus alrededores. Así, para definir sus bordes pueden ser necesarias imposiciones arbitrarias o ignorar parámetros.\""
   ]
  },
  {
   "cell_type": "markdown",
   "metadata": {},
   "source": [
    "## 4)Organizationally Closed"
   ]
  },
  {
   "cell_type": "markdown",
   "metadata": {},
   "source": [
    "Anteriormente, hemos dejado en claro que la configuración de nuestros sistemas permanecía imperturbada (en ciertos casos) por factores externos.\n",
    "\n",
    "** Observamos que el sistema no sufría cambios bruscos de dinámica por sí solo. **\n",
    "\n",
    "Bajo la condición de no intervenir en el sistema más que para fijar la condición inicial, observamos que el comportamiento del sistema era de forma \"suave\".\n",
    "Nos referimos por suave a que no había modificaciones significativas a la dinámica del sistema por causas internas.\n",
    "Los papeles atraídos al globo cargado no dejaban de estarlo repentinamente. Las cintas adhesivas eran coherentes con su comportamiento inicial. Todo esto considerando que gradualmente se iba perdiendo la efectividad de nuestros objetos cargados por la interacción con el medio.\n",
    "\n",
    "** Sin embargo, si se aplica una interacción externa suficientemente pertinente, es capaz de modificar el comportamiento del sistema. **\n",
    "\n",
    "Vimos que podíamos afectar la manera de reaccionar de los elementos si interveníamos en el transcurso del experimento. Si tocábamos las pelotas o si les soplábamos con aliento húmedo, observamos que disminuía el efecto que producían en los demás objetos (en algunos casos neutralizándolo efectivamente). Inferimos que, al hacer esto, descargamos directamente los objetos previamente cargados.\n",
    "\n",
    "### *¿Por qué mantiene su dinámica?*\n",
    "\n",
    "Las observaciones que se hicieron con respecto a este apartado son coherentes, pues estamos hablando de sistemas compuestos de muchas partes. Cada una de estos integrantes está sujeto a la interacción con el resto, de la misma manera en que los demás están sujetos a él. Si disminuimos de manera suficiente los factores externos que actúan sobre nuestro sistema, de modo que las únicas interacciones que sufre el sistema son las internas, es lógico pensar que con  condiciones iniciales dadas, se mantenga el comportamiento de todo.\n",
    "\n",
    "Esto contrasta directamente con el caso donde las interacciones internas no son despreciables, pues encontramos ejemplos donde la presencia de otro agente (como una persona o su aliento) tenía el potencial de modificar contundentemente la dinámica total.\n",
    "\n",
    "Hemos logrado observar muchas cosas en los sistemas con los que hemos experimentado. Una observación particularmente interesante es que su dinámica no cambiaba. Por supuesto, al paso del tiempo se descargaba (y eventualmente dejaba de apreciarse la atracción o repulsión), como lo hemos mencionado anteriormente. Sinembargo, el papel de cada objeto como parte del sistema no se veía modificado. Si una pelota, una cinta o un globo estaban cargados inicialmente e interactuaban de alguna manera con otros objetos, así siguieron haciéndolo por el resto del experimento - aunque por supuesto, progresivamente más débil.\n",
    "\n",
    "Sumara y Davis denominan a esto *organizacionalmente cerrado*:\n",
    "> \"Las formas complejas son cerradas en el sentido de que son inherentemente estables: su patrón de comportamiento o estructura interna permanece, aún cuando están en intercambio de energía o materia con su entorno dinámico.\""
   ]
  },
  {
   "cell_type": "markdown",
   "metadata": {},
   "source": [
    "## 5)Short Range Interactions"
   ]
  },
  {
   "cell_type": "markdown",
   "metadata": {},
   "source": [
    "**La interacción entre cuerpos con carga era más intensa conforme disminuíala distancia**\n",
    "En todos los casos pudimos observar que la interacción era más intensa conforme los objetos se acercaban unos a otros. Además no pudimos percivir la interacción entre objetos que estuviesen alejados (50cm o más). Sin embargo, no podemos asegurar que no hay una interacción entre los cuerpos, aunque sea muy pequeña, que pudiese ser medida al utilizar instrumentos de mayor precisión. Tampoco podemos asegurar que ésto se cumpla en todos los casos, es decir para todo par de cuerpos cargados. A pesar de ello, si consideramos la información entre los elementos del sistema como la interacción entre ellos, podemos decir que la mayoría de ésta se transmite en distancias cortas, entre vecinos que estén lo suficientemente cerca.\n",
    "\n",
    "Esto concuerda con la definición que Sumara y Davis dan en su libro de \"interacciones de corto rango\":\n",
    ">\"La mayor parte de la información en un sistema complejo se intercambia entre vecinos más cercanos, por la cohesión del sistema depende en las interdependencias de los agentes y no en una estructura centralizada de control.\""
   ]
  },
  {
   "cell_type": "markdown",
   "metadata": {},
   "source": [
    "**A partir de éste punto encontramos mayores diferencias entre los sistemas estudiados y las características de los sistemas complejos.**"
   ]
  },
  {
   "cell_type": "markdown",
   "metadata": {},
   "source": [
    "##6)Nested Structure"
   ]
  },
  {
   "cell_type": "markdown",
   "metadata": {},
   "source": [
    "**Si se tienen tres tiras adhesivas juntas y una se despega, ésta última se repele con las otras dos. Si posteriormente se despegan las dos tiras observamos que también aparece una repulsión entre ellas** \n",
    "La aparición de carga en objetos que previamente no la tenían nos hace pensar que éstos tienen una estructura que subyace a lo percivido. Podemos inferir que está relacionada íntimamente a la composición de los objetos y, dado que al poner dos cuerpos cargados en contacto esta propiedad usualmente se pierde, que no es algo común en los cuerpos que nos encontramos en la vida cotidiana.\n",
    "\n",
    "En el librode Davis y Sumara, la pripiedad de estructuras anidadas se describe de la siguiente manera:\n",
    ">\"Las unidades complejas están compuestas por y a su vez componen otras unidades que también se pueden denominar complejas, originando nuevos patrones y reglas de comportamiento.\"\n",
    "\n",
    "Sinembargo, dado que las observaciones las realizamos a nivel macroscópico y la esctrucutra que subyace dichos comportamientos no se puede observar a simple vista, no podemos asegurar que se presenten estructuras anidadas semejantes a las observadas en los experimentos y que éstas se comporten como unidades complejas. Comúmente, en electroestática, al igual que en mecánica Newtoniana, se hacen abstracciones para reducir el comportamiento macroscópico observado al comportamiento de cargas o masas puntuales. Sin embargo, dichas teorías fueron desarrolladas previo al descubrimiento del átomo, por lo que no son muy apegadas a la realidad "
   ]
  },
  {
   "cell_type": "markdown",
   "metadata": {},
   "source": [
    "##7)Structure-Determined"
   ]
  },
  {
   "cell_type": "markdown",
   "metadata": {},
   "source": [
    "Davis y Sumara describen esta propiedad como:\n",
    ">\"La unidad compleja puede modificar su propia estructura conforme se adapta para mantener su viabillidad en contextos dinámicos. Es decir, los sistemas complejos contienen su historia, pueden aprender y por ello están mejor descritos por la teoría de la evolución de Darwin que por la mecánica de Newton.\"\n",
    "\n",
    "**Al cargar una esfera descargarla y volverla a cargar no podemos observar evidencia de la primera carga ni de su previa ausencia**\n",
    "En efecto observamos que los sistemas electrostáticos evolucionan con el tiempo, pues los cuerpos pueden modificar la carga y posición que estos tienen. Sin embargo, no pudimos observar que estos sistemas manifestansen \"memoria\" de sus estados pasados. Si cargamos una esfera de unicel, la tocamos para retirarle la carga y luego la volvemos a cargar al frotarla contra nuestro cabello, no podemos ver evidencia de que tenía carga anteriormente. Del mismo modo, no podríamos distinguir la previa ausencia de carga ni tampoco podríamos deducir cuando fué cargada. Anteriormente mencionamos que los cuerpos pierden su carga con el tiempo al estar expuestos al medio. Sin embargo,probablemente podríamos aislar un cuerpo para que retuviese por más tiempo su carga.\n",
    "\n",
    "De este modo podemos argumentar que los cuerpos cargados no cumplen con esta propiedad de los sistemas complejos y posiblemente sea más adecuada su descripción mediante una extensión de la mecánica de Newton."
   ]
  },
  {
   "cell_type": "markdown",
   "metadata": {},
   "source": [
    "##8)Far-From Equilibrium"
   ]
  },
  {
   "cell_type": "markdown",
   "metadata": {},
   "source": [
    "**Los cuerpos sólo manifiestan su carga cuando éstos se encuentran cerca de otros**\n",
    "Dado que la única forma de que nosotros podemos saber si un cuerpo está cargado es acercándolo a otro (éste último no necesariamente con carga), debemos restringirnos a sistemas donde los cuerpos se encuentren cerca (distancias menores a 8cm). Esto se debe a que todos los sistemas de cuerpos que se encuentren lejos entre ellos no presentan interacción. Aunque sepamos que éstos están cargados, pues pudimos haber frotado un globo con nuestro cabello, diríamos que se encuentran en equilibrio ya que no hay ninguna interacción aparente. En este caso los cuerpos con carga son indistinguibles de aquellos que no la poseen.\n",
    "\n",
    "**Se logró alcanzar un equilibrio estáble entre dos cuerpos cargados**\n",
    "En nuestro experimento colocamos dos esferas cargadas, una suspendida por un hilo y otra fija en una aguja como se muestra en la imagen. Aunque las fuerzas presentes no eran exclusivamente de origen electrostático, pudimos equilibrar la repulsión que se ejercían las esferas con el peso de la segunda.  \n",
    "\n",
    "<img src=\"Imagenes/esferas.jpg\" width=\"306\" height=\"408\" alt=\"image\"/>\n",
    "\n",
    "Según Davis y Sumara los sistemas complejos presentan la siguiente propiedad: \n",
    ">\"Los sistemas complejos no operan en equilibrio; en relidad, el equilibrio estable implica la muerte para los sistemas complejos.\"\n",
    "\n",
    "La intrepretación que se le puede dar en este caso es que los sistemas complejos, al llegar a un equilibrio dejan de considerarse como tales. En nuestro experimento podemos ver que un sistema de cuerpos cargados sí puede estar en un equilibrio estable, aunque para ello debemos considerar interacciones no electrostáticas. En un curso de teoría de electromagnetismo, el Teorema de Earnshaw predice que no es posible construir un campo electrostático que genere un equilibrio estable donde no hay cargas. Si nos apegamos a esto diríamos que un sistema de cargas nunca puede tener estar en equilibrio estable. Sin embargo, éste teorema asume que no hay fuerzas de interacción más que las generadas por las cargas. En realidad hay muchas otras fuerzas del medio que actúan sobre las fueras, por lo que se puede lograr un equilibrio estable con estas. Por tanto podemos decir que, en este sentido, los sistemas electrostáticos no componen sistemas complejos.\n"
   ]
  }
 ],
 "metadata": {
  "kernelspec": {
   "display_name": "Python 2",
   "language": "python",
   "name": "python2"
  },
  "language_info": {
   "codemirror_mode": {
    "name": "ipython",
    "version": 2
   },
   "file_extension": ".py",
   "mimetype": "text/x-python",
   "name": "python",
   "nbconvert_exporter": "python",
   "pygments_lexer": "ipython2",
   "version": "2.7.8"
  }
 },
 "nbformat": 4,
 "nbformat_minor": 0
}
