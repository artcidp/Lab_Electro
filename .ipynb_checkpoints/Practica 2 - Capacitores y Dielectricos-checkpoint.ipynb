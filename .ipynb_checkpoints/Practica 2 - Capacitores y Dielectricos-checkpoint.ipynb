{
 "cells": [
  {
   "cell_type": "markdown",
   "metadata": {},
   "source": [
    "#Capacitores y Dieléctricos"
   ]
  },
  {
   "cell_type": "markdown",
   "metadata": {},
   "source": [
    "##Introducción"
   ]
  },
  {
   "cell_type": "markdown",
   "metadata": {},
   "source": [
    "Si consideramos un conductor de dimensiones finitas que contiene una carga $Q$ y se encuentra en el vació, el campo eléctrico dentro del conductor cumple, en el caso electrostático, que $\\vec{E}=\\vec{0}$. De lo contrario habría una fuerza neta en las cargas del material. Por tanto, si tomamos como punto de referencia el infinito, el conductor se encuentra a potencial constante $\\phi=\\phi_0$. Ahora, utilizando el hecho de que $\\nabla\\cdot\\vec{E}=\\frac{\\rho}{\\epsilon_0}$, inferimos que la carga se debe encontrar distribuída en la superficie del conductor. \n",
    "\n",
    "La capacitancia $C$ para éste conductor es una propiedad que depende únicamente de la forma del conductor y estal que $Q=C \\phi_0$. Para el caso de dos conductores con cargas opuestas $Q$ y $-Q$ cuyos potenciales son respectivamente $\\phi_1$ y $\\phi_2$ tenemos que $Q=C(\\phi_1 - \\phi_2)$.\n",
    "\n",
    "En este experimento utilizamos un capacitor de placas paralelas circulares de área $A$ y separadas por una distancia $s$. Dado que el campo eléctrico entre dos planos infinitos tiene magnitud $E=\\frac{\\sigma}{\\epsilon_0} = \\frac{\\phi_1 - \\phi_2}{s}$, podemos aproximar el campo eléctrico entre dos placas paralelas finitas y obtener que $Q=A\\frac{\\epsilon_0(\\phi_1 - \\phi_2)}{s}$. Por lo tanto, la teoría predice que la capacitancia entre las dos placas será, aproximadamente, tal que $$C_{vac}=\\frac{\\epsilon_0A}{s}$$\n",
    "\n",
    "Si ahora consideramos un material, no necesariamente conductor, que se coloca entre las placas del capacitor, éste sufre una polarización $\\vec{P}$. Si asumimos que el medio es isotrópico y lineal, la polarizión es tal que $\\vec{P}=(K-1)\\epsilon_0\\vec{E}$, donde $K$ es la constante dieléctrica del material. Debido a la polarización aparece una distribución superficial de carga uniforme de signo opuesto a la carga en la placa vecina del capacitor, entonces $\\sigma_{pol}=\\frac{Q_{pol}}{A}$. Ahora, consideramos una superficie de Gauss de forma rectangular como se muestra en la figura de abajo.Dado que la batería a la que ambas están conectadas mantiene la diferencia de potencial, denotada por $\\phi_{12}$, tenemos que la carga total encerrada $Q_t$ es la misma. Vemos que $Q_t=Q_f-Q_pol$ y que la carga $Q_f$ que ahora se encuentra en una de las placas es tal que $Q_f=KQ_0$, donde $Q_0$ es la carga en una de las placas del capacitor antes de colocar el material. De aquí se obtiene que $$C_{dielec}=\\frac{Q_f}{(\\phi_1 - \\phi_2)}=KC_{vac}$$\n",
    "\n",
    "\n",
    "<img src=\"Lab_Electro\\capacitor.png\" alt=\"image\"/>"
   ]
  },
  {
   "cell_type": "markdown",
   "metadata": {},
   "source": [
    "##Desarrollo"
   ]
  },
  {
   "cell_type": "markdown",
   "metadata": {},
   "source": [
    "En esta práctia se utilizaron multímetros para medir la capacitacia entre dos discos metálicos paralelos del mismo diámetro $D$ separados una distancia $d$ entre sí. Se midió la capacitancia del sistema para varias distancias entre 12cm y 0.5cm. Se realizó este procedimiento para discos de diferentes diámetros. Finalmente se repitió todo el procedimiento colocando en cada ocasión colocando un disco de material dieléctrico entre los capacitores (fué un disco del mismo para todas las distancias entre las placas). Se hicieron mediciones con 4 dieléctricos en total: aire, madera, plástico y cartón.  "
   ]
  },
  {
   "cell_type": "markdown",
   "metadata": {},
   "source": [
    "##Datos"
   ]
  },
  {
   "cell_type": "markdown",
   "metadata": {},
   "source": [
    "De los datos recolectados obtuvimos las siguientes gráficas de $d$ (en cm) en el eje x contra $\\frac{Cd}{A}$ (en pF/cm) en el eje y. Cada tabla representan las valores para un material dieléctrico distinto y las lineas que aparecen en cada una de las tablas representan las medidas para un diámetro $D$ distinto.\n",
    "\n",
    "<img src=\"Imagenes\\Aire.png\" alt=\"image1\"/>\n",
    "<img src=\"Imagenes\\Madera.png\" alt=\"image2\"/>\n",
    "<img src=\"Imagenes\\Plastico.png\" alt=\"image3\"/>\n",
    "<img src=\"Imagenes\\Carton.png\" alt=\"image4\"/>\n",
    "<img src=\"Imagenes\\Vidrio.png\" alt=\"image5\"/>"
   ]
  },
  {
   "cell_type": "markdown",
   "metadata": {},
   "source": [
    "##Discusión"
   ]
  },
  {
   "cell_type": "markdown",
   "metadata": {},
   "source": [
    "Podemos observar que en todos los casos nuestros datos tienen una gran correlación con un modelo lineal, lo cual nos permite corroborar nuestro modelo. Es decir, de los experimentos podemos concluir que $C=\\frac{K\\epsilon_0A}{d}=$, donde a $K$ se le conoce como constante dieléctrica del material. Es decir que, al menos en el rango de las mediciones relizadas y para un área del capacitor fija, la capacitancia $C$ del sistema varía como $frac{1}{d}$. Esto nos sugiere que siempre que disminuya la distancia, la capacitancia aumenta sin cota. En el sentido estricto ésto no es correcto siempre, pues no podríamos construir un capacitor cuya separación entre las placas tenga una escala subatómica. Tampoco realizamos mediciones con distancias grandes entre los capacitores (de 50cm o más) por lo que tampoco podemos asegurar que el comportamiento se mantenga en ese régimen. Además pudimos observar que la capacitancia de los materiales sólidos era mayor que la de el aire, es decir que su constante dieléctrica era mayor (sinembargo todas las mediciones se encuentran en el mismo órden de magnitud).\n",
    "\n",
    "Sin embargo, se puede utilizar ésta propiedad con fines pragmáticos. Los supercapacitores funcionan al aprovechar al máximo dicha propiedad. Estan constituidos por dos pequeñas placas de carbono poroso separadas por una membrana aislante (un dieléctrico) y se encuentran sumergidos en una solución electrolítica. Debido a las porosidad del carbono, el área efectiva de las placas se aprovecha al máximo, mentras que la distancia efectiva entre las placas (el ancho de la membrana aislante) puede llegar a medir cerca de un radio atómico. Por ésta razón se puede almacenar una gran cantidad de carga al tener una diferencia de potencial pequeña entre las placas, la cual generalmente es del órden de unos pocos Vots (se pueden alcanzar hasta 10,000 Faradios con una diferencia de potencial de 1.2V). Los supercapacitores, a diferencia de las baterías de dimensiones comparables, tienen periodos de descaga muy corto pero tienen una mayor vida útil y se pueden cargar con mucho mayor rapidez."
   ]
  },
  {
   "cell_type": "markdown",
   "metadata": {
    "collapsed": true
   },
   "source": [
    "##Bibliografía"
   ]
  },
  {
   "cell_type": "markdown",
   "metadata": {},
   "source": [
    "-Purcell Edward M, Morin David J, *Electricity and Magnetism*, Cambridge University Press, 3a Edición, 2014, pp 489-492\n",
    "\n",
    "-Griffiths David J, *Introduction to Electrodynamics*, Prentice Hall, 3a Edición, 1999, pp 105,106"
   ]
  }
 ],
 "metadata": {
  "kernelspec": {
   "display_name": "Python 2",
   "language": "python",
   "name": "python2"
  },
  "language_info": {
   "codemirror_mode": {
    "name": "ipython",
    "version": 2
   },
   "file_extension": ".py",
   "mimetype": "text/x-python",
   "name": "python",
   "nbconvert_exporter": "python",
   "pygments_lexer": "ipython2",
   "version": "2.7.8"
  }
 },
 "nbformat": 4,
 "nbformat_minor": 0
}
