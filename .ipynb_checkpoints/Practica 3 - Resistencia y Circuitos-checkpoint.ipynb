{
 "cells": [
  {
   "cell_type": "markdown",
   "metadata": {},
   "source": [
    "#Resistencia y Circuitos"
   ]
  },
  {
   "cell_type": "markdown",
   "metadata": {},
   "source": [
    "##Corrientes"
   ]
  },
  {
   "cell_type": "markdown",
   "metadata": {},
   "source": [
    "Anteriormente nos enfocamos en el caso electrostático de los sistemas, es decir en sistemas en los que las cargas se encontraban en reposo. A continuación estudiaremos sistemas en los que las cargas se encuentran en movimento para lo cual debemos introducir el concepto de corrientes de carga. Para empezar nos enfocaremos en las denominadas corrientes estacionarias las cuales son invariantes en el tiempo, es decir que si nos fijamos en una superficie $S$ el flujo de carga que pasa por $S$ por unidad de tiempo será invarante.\n",
    "\n",
    "Consideremos, en primer lugar un conjunto de partículas con igual carga $q$ que se mueven todas con velocidad $\\vec{u}$ sin interactuar entre sí. Supondremos que hay $n$ partículas  por metro cúbico en el sistema. Si nos fijamos en un recuadro de área $\\vec{a}$, como se muestra en la figura, tendremos que en un intervalo $\\Delta t$ las partículas que pasarán por el recuadro se encuentran en el paralelepípedo con base $a$ y largo $u\\ \\Delta t$. Entonces el volumen del paralelepípedo está dado por $a\\ u\\ \\Delta t\\ cos\\theta$, que lo podemos reexpresar como $\\vec{a}\\cdot \\vec{u}\\ \\Delta t$ pues $\\theta$ es el ángulo entre los vectores $\\vec{u}$ y $\\vec{a}$ además de el ángulo entre las aristas del paralelepípedo y el cubo de base $a$ que se muestra en líneas punteadas en la figura. Entonces el número de partículas que pasará por el volumen en el tiempo $\\Delta t$ será $n\\ \\vec{a}\\cdot \\vec{u}\\ \\Delta t$ y la carga total será $Q_T = qn\\ \\vec{a}\\cdot \\vec{u}\\ \\Delta t$. Entonces, la corriente que pasa por el marco se define como la carga que pasa por unidad de tiempo que, dado que asumimos que es igual para todo tiempo, es $I =\\frac{Q_T}{\\Delta t}=qn\\ \\vec{u}\\cdot \\vec{a}$. La corriente se mide en Amperes que son tales que $1A=\\frac{1Coulomb}{1seg}$.\n",
    "\n",
    "<img src=\"Imagenes/Resistencia/Flujo de Cargas.jpg\" width=\"306\" alt=\"capacitor\"/>\n",
    "\n",
    " \n",
    "Ahora, si consideramos que hay diferentes clases de partículas con igual carga, densidad y velocidad tenemos que $I = \\vec{a}\\cdot \\sum\\limits_{k}q_kn_k\\ \\vec{u_k}$. La suma la podemos entender como una densidad de corriente por unidad de área, que denotaremos como $\\vec{J}$. Finalmente, nos fijamos en una superficie arbitraria $S$. Para simplificar las cuentas podemos considerar que tenemos una función continua de velocidades $\\vec{u}=\\vec{u} (\\vec{x})$ definida en la superficie (seguimos asumiendo que la corriente es estacionaria, por lo que esto nos da las velocidades de todas las partículas que vayan a pasar por un mismo punto de la superficie). Entonces la corriente se puede obtener al integrar la función $\\vec{J}=\\rho \\vec{u}$, donde $\\rho$ es la densidad volumétrica de carga para un punto $\\vec{x}$ en la superficie. Por tanto obtenemos $$I=\\int\\limits_{S}\\vec{J}\\cdot d\\vec{a}$$     "
   ]
  },
  {
   "cell_type": "markdown",
   "metadata": {},
   "source": [
    "##Resistencia y Ley de Ohm"
   ]
  },
  {
   "cell_type": "markdown",
   "metadata": {},
   "source": [
    "Ahora veremos un caso de cómo se comporta una corriente que es ocasionada por un campo eléctrico. Consideremos un alambre conductor recto de área transversal $A$ y longitud $L$ que se encuentra aislado del medio y cuyos extremos se encuentran a una diferencia de potencial $V=\\Delta \\phi$ que denominaremos Voltaje. Debido a esta diferencia de potencial se crea un campo eléctrico $\\vec{E}$ que sólo tiene componente en la dirección normal a los extremos del cable y que, al igual que en el caso del campo eléctrico entre dos placas paralelas, asumiremos es uniforme dentro del cable. Dado que el potencial $\\phi$ es tal que $\\vec{E}=-\\nabla \\phi$ y el campo eléctrico sólo tiene una componente en la dirección normal a los extremos tenemos que el potencial es de la forma $\\phi=cte\\ x$, donde x es la distancia desde uno de los extremos hasta un punto en el centro del cable a lo largo de la dirección normal (aquí elejimos un extremo como el punto de referencia de potencial cero). Por tanto, $V=cte\\ L$ y con esto podemos escribir $E=\\frac{V}{L}$.  \n",
    "\n",
    "<img src=\"Imagenes/Resistencia/Corriente en Cable.png\" width=\"480\" alt=\"corriente en cable\"/>\n",
    "\n",
    "A continuación asumiremos que la densidad de corriente es proporcional al campo eléctrico, es decir $\\vec{J}=\\sigma \\vec{E}$ donde $\\sigma$ llamada la conductividad eléctrica la cual es la misma a lo largo del cable y no depende de la intensidad del campo eléctrico. De este modo podemos deducir que $\\vec{J}$ también es uniforme a lo largo del cable. Ahora,si nos fijamos en la superficie dada por la sección transversal del cable con área $A$, tenemos que $I=\\int\\limits_{S}\\vec{J}\\cdot d\\vec{a}=J A =\\sigma E A$, pues la densidad de corriente tiene la misma dirección que el campo eléctrico, que es paralelo al vector normal a la superficie. Utilizado que $E=\\frac{V}{L}$ en la ecuación anterior obtenemos que $I=\\frac{\\sigma A}{L}V$ o bien $$V=\\frac{L}{\\sigma A}I=RI$$\n",
    "\n",
    "La ecuación anterior se conoce como Ley de Ohm y a la constante de proporcionalidad $R$ se le denomina la resistencia del material. La resistencia se mide en Ohms que se denotan por $\\Omega$ y son tales que $1\\ Ohm=\\frac{1Ampere}{1Volt}$. Decimos que cuando la corriente pasa por una resistencia experimenta una caida de potencial $V$ descrita por la ley.\n",
    "\n",
    "En el laboratorio realizamos mediciones de resistencia para distintos materiales y vimos que la Ley de Ohm es una buena aproximación para describir la relación entre el voltaje y la corriente que pasa por un conductor. Incluso no es necesario que el conductor sea recto para que cumpla esta relación, pues los cables al doblarlos no cambian su resistencia. A nivel microscópico se puede explicar esto argumentando la acumulación de carga en la superficie del conductor, especialmente donde éste se dobla, por lo que la corriente tiende a mantender su uniformidad a nivel macroscópico. Sin embargo a nosotros no nos interesa esto, nos interesa ver si se cumple esta relación para distintos sistemas. La deducción de ésta relación se basa fuertemente en asumir que $\\vec{J}=\\sigma \\vec{E}$ por lo que sólo será válida en el régimen donde se presente ésta proporcionalidad. Entonces podemos clasificar los materiales en el laboratorio como óhmicos y no óhmicos según cumplan con esta ecuación. "
   ]
  },
  {
   "cell_type": "markdown",
   "metadata": {},
   "source": [
    "En la práctica, en materiales como el alambre de cobre podemos despreciar su resistencia, pues para cables de 10cm de longitud ésta es menor a 0.1Ohms. Las conexiones fueron realizadas con alambres de cobre de longitudes similares y las resistencias de los materiales medidos eran generalmente mayores en varios órdenes de magnitud. Además, para medir la corriente y voltaje al que se encuentra un material debimos conectar dos aparatos simultáneamente para medir cada cantidad,  por lo que debemos primero entender cómo se comportan según las conexiones que se hagan.\n",
    "\n",
    "**Conexiones en Serie**\n",
    "\n",
    "<img src=\"Imagenes/Resistencia/Serie.png\" width=\"180\" alt=\"serie\"/>\n",
    "\n",
    "Si conectamos dos resistencias distintas $R_1$ y $R_2$ una segida de la otra como se muestra en la figura y nos fijamos en los nodos de los extremos tendremos que la cantidad de carga que pasa por unidad de tiempo a través de cualquier sección transversal de cable es la misma por lo que la corriente se debe conservar a lo largo del cable. Por otro lado cada resistencia ocasiona una caida de potencial tal que $V_1=R_1\\ I$ y $V_2=R_2\\ I$. Entonces la diferencia entre ambos nodos está dada por $V_T=R_T\\ I=V_1 + V_2 =R_1\\ I + R_2\\ I$, donde estamos considerando a todo el sistema como una sola resistencia $R_T$. De aquí obtenemos que:\n",
    "\n",
    "$$R_T=R_1+R_2$$\n",
    "\n",
    "**Conexiones en Paralelo**\n",
    "\n",
    "<img src=\"Imagenes/Resistencia/Paralelo.png\" width=\"320\" alt=\"paralelo\"/>\n",
    "\n",
    "Si ahora tenemos una bifurcación en el flujo de la corriente y colocamos una resistencia en los distintos caminos como se muestra en la figura la resistencia total la debemos obtener de una manera distinta. Primero, recordamos que el potencial eléctrico $\\phi$ se puede definir pormedio de la integral $\\phi (\\vec{x})=\\int\\limits_{\\vec{x_0}}^\\vec{x}\\vec{E}\\cdot d\\vec{r}$ debido a que ésta no depende de la trayectoria que se tome para llegar de un punto al otro (donde $\\vec{x_0}$ es el punto de referencia del potencial). De aquí podemos deducir que la diferencia de potencial $V=\\Delta \\phi$ entre los nodos es la misma para ambos caminos. Por otro lado la carga que se mueve a lo largo del conductor se divide entre los dos caminos, pero si la corriente es uniforme y la carga se conserva entonces la carga que pasa por unidad de tiempo es la misma en ambos extremos del recorrido. Por ello en cada rama del recorrido la carga total se distribuye de modo que $I_T=I_1+I_2$. Ahora, tenemos las siguientes igualdades $V=R_T\\ I_T=R_1\\ I_1=R_2\\ I_2$ o bien $\\frac{V}{R_T}=I_T=I_1+I_2=\\frac{V}{R_1}+\\frac{V}{R_2}$. Al eliminar $V$ vemos que la resistencia total la podemos obtener mediante: \n",
    "\n",
    "$$\\frac{1}{R_T}=\\frac{1}{R_1}+\\frac{1}{R_2}$$\n",
    "\n",
    "**Resultados Experimentales**\n",
    "\n",
    "<img src=\"Imagenes/Resistencia/Mediciones.png\" width=\"128\" alt=\"mediciones\">\n",
    "\n",
    "A continuación presentamos los resultados de la medición de Voltaje contra Intensidad de Corriente para varios materiales que realizamos en el laboratorio. Para realizar las mediciones utilizamos un amperímetro y un voltímetro que conectamos a una fuente de corriente como se muestra en la imagen anterior"
   ]
  },
  {
   "cell_type": "markdown",
   "metadata": {},
   "source": [
    "<img src=\"Imagenes/Resistencia/Nicromel.png\" width=\"700\" alt=\"nicromel\">\n",
    "\n",
    "En esta imagen se muestran las ecuaciones para dos ajustes distintos de los datos obtenidos, uno es un ajuste lineal y otro una parábola. Vemos que en el rango que nosotros tenemos para los datos ambas gráficas son indistinguibles entre sí, por lo que podemos decir que el material es óhmico en el régimen mostrado."
   ]
  },
  {
   "cell_type": "markdown",
   "metadata": {},
   "source": [
    "<img src=\"Imagenes/Resistencia/Agua de Limon.png\" width=\"700\" alt=\"agua de limón\">\n",
    "\n",
    "En esta caso se utilizó una solución de jugo de limón en agua. La capacidad conductiva de la sustancia se debe a la formación de iones en el ácido cítrico cuando se aplica una diferencia de potencial entre los electrodos. Éste mecanismo es el que hace que la sustancia se comporte como un material no óhmico pues la taza de disociación depende de la intensidad del campo eléctrico y por ende también la conductividad, incluso para corrientes del órden de microamperes. Sinembargo, podemos ver que el coeficiente del término cuadrático es bastante pequeño."
   ]
  },
  {
   "cell_type": "markdown",
   "metadata": {},
   "source": [
    "<img src=\"Imagenes/Resistencia/Grafito.png\" width=\"600\" alt=\"grafito\">\n",
    "\n",
    "Apesar de que el grafito se clasifica como un material conductor, su comportamiento no es propio de un material óhmico. Esto lo podemos atribuir a su estructura microscópica no-homogénea. Debido a que el grafito está formado por mallas de capas de carbono, el material puede tener una conductividad distinta según la orientación de la corriente que pase através de él. También podría ser que el grafito disipe mucha energía térmica en el régimen de corrientes que se muestra, por lo que su estructura microscópica se ve afectada al aumentar la corriente."
   ]
  },
  {
   "cell_type": "markdown",
   "metadata": {},
   "source": [
    "<img src=\"Imagenes/Resistencia/Agua con Sal.png\" width=\"700\" alt=\"agua con sal\">\n",
    "\n",
    "En esta gráfica se muestra la resistencia de una solución de agua con sal, para diferentes cantidades de sal. Vemos que ésta tiene un comportamiento lineal y que disminuye conforme se agrega más soluto. Sin embargo, las rectas que nos dan el ajuste no tienen una ordenada al origen igual a cero y además éste sistema funciona con el mismo mecanismo que el agua de limón: la disociación del soluto en iones pero presenta un comportamiento distinto. Esto lo podemos explicar si consideramos que la sal se disuelve en agua, es decir los átomos de Sodio y Cloro se separan al disolver la sal sin necesidad de aplicar la corriente, lo cual habíamos dicho que no pasaba en el caso del agua de limón. En este caso ya hay una presencia portadores de carga (los iones) antes de aplicar la corriente, por lo que el material se comporta como un conductor óhmico. En cuanto a la ordenada al origen, se requerirían hacer mediciones en un rango de corrientes de menor intensidad  para poder determinar el comportamiento de la resistencia allí. Sin embargo, podemos conjeturar que hay un voltaje crítico a partir del cual el comportamiento del sistema es óhmico debido a que se requiere que el campo eléctrico externo sea suficiente como para dominar el comportamiento de los iones. "
   ]
  },
  {
   "cell_type": "markdown",
   "metadata": {},
   "source": [
    "##Pilas Voltáicas y  Baterias"
   ]
  },
  {
   "cell_type": "markdown",
   "metadata": {},
   "source": [
    "Ahora hablaremos acerca de la función que tienen las pilas y baterías en los circuitos. La función básica de ambas es proporcionar y mantener una diferencia de potencial que crea una corriente uniforme en el circuito, también llamada corriente directa. Una pila es una celda o compartimento que aloja sustancias químicas que al cerrar el circuito reaccionan y liberan electrones que fluyen de un electrodo, llamado cátodo, hasta el otro electrodo, llamado ánodo, a través del circuito. Por batería nos referimos a un conjunto de pilas conectadas entre sí ya sea en serie o en paralelo. \n",
    "\n",
    "En el laboratorio utilizamos pares de baterías de 12,9 y 1.5 Volts para conocer las diferentes propiedades que estas tienen. Vimos que una bateria presenta una diferencia de potencial inicial cuando no se encuentra conectada; esta diferencia es llamada fuerza electromotriz (abreviada fem) y se denota por $\\mathcal{E}$ aunque en realidad tiene unidades de fuerza por unidad de carga al igual que el potencial. Utilizamos un voltímetro para medir dicha fuerza, sin embargo las mediciones siempre se encontraban por debajo del voltaje indicado en la batería, alrededor de 5% menos. Dado que no podíamos medir la intensidad de corriente que suministraba la batería con el voltímetro, la conectamos a un circuito que consistía únicamente en la batería y una resistencia variable $R$ como se muestra en la figura de abajo. Entonces, la corriente suministrada por la batería podía ser calculada con ley de ohm mediante $I=\\frac{V}{R}$ debido a que las conexiones las hicimos con alambre de cobre, el cual es considerado un material óhmico y, como mencionamos anteriormente, su resistencia es despreciable (con esto la corriente que suministra la batería es casi la misma que la que pasa por la resistencia). En todos los casos aumentaba la temperatura del cable y de la batería si la resistencia era baja, menor a $50\\Omega$. Sin embargo, en el caso de las baterías de 9 y 12 Volts era necesario colocar una resistencia pues si cerrabamos el circuito sin una resistencia el alambre de cobre se fundía rápidamente; lo mismo ocurría para resistencias menores a $1\\Omega$. De esta manera vemos que la corriente aumenta conforme la resistencia disminuye. Microscópicamente, esto está relacionado con la velocidad con la que podemos hacer reaccionar los reactivos de la pila o batería, es decir qué tan rápido podemos extraer electrones de la reacción para que pasen por el circuito.\n",
    "\n",
    "<img src=\"Imagenes/Circuitos/Circuito Equivalente.png\" width=\"410\" alt=\"Circuito Equivalente de una batería\">\n",
    "\n",
    "Sin embargo, nos percatamos de que la caida de potencial ocasionada por la resistencia externa del circuito ($V$ en la figura) era menor que la fem $\\mathcal{E}$ que medimos cuando la batería estaba desconectada. Esto lo podemos explicar si la batería tubiese también una resistencia interna, que denominamos $R_i$. La fem no se vería afectada por esta resistencia al estar desconectada pues no hay flujo de corriente. Además, dicha resistencia debe ser tal que $V=RI=\\mathcal{E}-R_iI$, pues la diferencia en el potencial entre los nodos indicados en la figura debe ser igual sin importar el camino que se tome. Entonces, podemos calcular la resistencia interna de la siguiente manera: \n",
    "\n",
    "$$R_i=\\frac{\\mathcal{E}}{I}-R$$\n",
    "\n",
    "La corriente que pasa por el circuito debe ser tal que $\\mathcal{E}-R_iI=RI$ por lo que podemos calcular la corriente de la siguiente manera: \n",
    "\n",
    "$$I=\\frac{V}{R}=\\frac{\\mathcal{E}}{R+R_i}$$"
   ]
  },
  {
   "cell_type": "markdown",
   "metadata": {},
   "source": [
    "**Conexiones en Serie**\n",
    "\n",
    "Ahora, si deseamos conectar varias pilas o baterias en serie debemos conectar el cátodo (polo positivo) de una al ánodo (polo negativo) de la otra. En el laboratorio comprobamos que la fem resultante era $\\mathcal{E}_T=\\mathcal{E}_1+\\mathcal{E}_2$. En el caso de una sola batería vimos que ésta es equivalente a una diferencia de potencial (la fem) y una resistencia interna, la cual es independiente de a qué se conecte la bateria. Entonces podemos deducir que la resistencia interna de las baterias en total se obtiene al sumar las resistencias internas de cada una en serie. Esto lo pudimos comprobar al sumar las resistencias de las baterías que medimos individualmente utilizando un multímetro para medir la caida de potencial $V$ de la resistencia externa $R$ e $I$, la corriente que pasa por esa resistencia. La suma la comparamos con la respectiva resistencia total con las baterías conectadas en serie.\n",
    "\n",
    "Por otro lado,si desconosemos la corriente pero sabemos los valores de las resistencias internas, consideremos que $\\mathcal{E}_1$ y $\\mathcal{E}_2$ son las fems de la batería 1 y 2 respectivamente, ambas conectadas en serie. Además, asumiremos que las baterías tienen unas resistencias internas de $R_1$ y $R_2$ respectivamente. En este caso, si V es la caída de potencial inducida por la resistencia externa $R$, podemos calcular la corriente que pasa por la resistencia $R$ mediante: \n",
    "\n",
    "$$I=\\frac{V}{R}=\\frac{\\mathcal{E}_1+\\mathcal{E}_2}{R_1+R_2}$$\n",
    "\n",
    "**Conexiones en Paralelo**\n",
    "\n",
    "Primero, consideraremos el caso particular en el que las dos pilas o baterías son del mismo voltaje, es decir proporcionan la misma fem. Entonces, las baterías como conjunto proporcionan la misma diferencia de potencial $\\mathcal{E}=\\mathcal{E}_1=\\mathcal{E}_2$. Ahora, utilizando el mismo argumento que en el inciso anterior podemos deducir que las resistencias internas de las baterías se pueden sumar como en paralelo para obtener la resistencia total de las baterías. Entonces, la resistencia interna de las baterías es $R_i=\\frac{R_1 R_2}{R_1 + R_2}$. Al igual que en inciso anterior, comprobamos esto al realizar mediciones por separado de $R_i$, $R_1$ y $R_2$. \n",
    "\n",
    "Si ahora deseamos calcular la intensidad de corriente $I$ que pasa por la resistencia externa $R$ debemos fijarnos en que $I=I_1+I_2$, es decir $I$ es la suma de las corrientes que producen cada una de las baterias. Entonces la corriente la podemos calcular mediante:\n",
    "\n",
    "$$I=\\frac{V}{R}=\\frac{\\mathcal{E}}{R_1}+\\frac{\\mathcal{E}}{R_2}=\\mathcal{E}(\\frac{R_1+R_2}{R_1R_2})$$\n",
    "\n",
    "En el caso general, donde las baterías pueden tener voltajes u orientaciones distintas, debemos fijarnos en lo que sucede con la dirección de la corriente. Para esto, el método más utilizado son las Leyes de Kirchhoff, de las que hablaremos en la siguiente sección."
   ]
  },
  {
   "cell_type": "markdown",
   "metadata": {},
   "source": [
    "##Leyes de Kirchhoff"
   ]
  },
  {
   "cell_type": "markdown",
   "metadata": {},
   "source": [
    "Para analizar el comportamiento de circuitos eléctricos más complejos, donde puede haber varias fuentes de potencial, se utilizan las Leyes de Kirchhoff. Estas se utilizan para circuitos que únicamente tengan  basan en tres principios:\n",
    "\n",
    "**1)Ley de Ohm:** La caída de potencial $V$ que ocasiona una resistencia $R$ por la que pasa una corriente $I$ es tal que $V=RI$.\n",
    "\n",
    "**2)Conservación de Carga:** En un nodo (un punto donde se unen tres o más cables) la suma algebráica de las corrientes es cero, o bien la suma de las corrientes que entran al nodo es igual a la suma de las corrientes que salen de él.\n",
    "\n",
    "**3)El Campo Eléctrico es Conservativo:** Dado que la diferencia de potencial de dos puntos es independiente de la trayectoria que se utilize para calcularla, tenemos que la diferencia de potencial definida a lo largo de cualquier trayectoria cerrada es cero, en particular para cualquier malla o *loop* en el circuito.\n",
    "\n",
    "<img src=\"Imagenes/Circuitos/Leyes_de_Kirchhoff.png\" width=\"270\" alt=\"Ejemplo de Leyes de Kirchoff\">\n",
    "\n",
    "Vemos que, de manera similar al caso de las baterías en serie, si tenemos varias fuentes de potencial y resistencias en un cable que une dos nodos adyacentes podemos reducirlo a un sistema equivalente con una sola fuente y una sola resistencia.\n",
    "\n",
    "####Resultados Experimentales\n",
    "\n",
    "En el laboratorio construímos un circuito que consistía de cuatro focos de $30W$y seis interruptores conectados a una fuente de potencial $V$ como se muestra en la figura de abajo. Una vez conectado, probamos diferentes configuraciones de los interruptores con las cuales se encendían diferentes focos y con diferente intensidad. Si la corriente pasaba por varios focos en serie, estos se iluminaban con la misma intensidad pues se encontraban al mismo potencial. Esto se debe a que la intensidad luminosa es proporcional a la temperatura a la que se encuentre el filamento del foco y esto a su vez es proporcional a la Potencia eléctrica disipada por el foco. Recordamos que la potencia está dada por $P = VI$. Por tanto, dos focos idénticos conectados en paralelo tendrán el mismo potencial y entonces brillarán con la misma intensidad, pues la corriente se distribuye equitativamente. En cambio, si tenemos dos focos conectados en serie, tendremos que la caida de potencial que cada uno provoca en el circuito es tal que $V=V_1+V_2$. Entonces, la potencia disipada por cada uno será menor (la suma es igual a la potencia que disipa cada foco en un circuito conectado en paralelo) y brillarán con menor intensidad. Debemos notar que los filamentos de los focos nos son conductores óhmicos, por lo que no podemos utilizar la ley de Ohm, sin embargo podemos utilizar el concepto de resistencia y definirlo como el cociente $R=\\frac{V}{I}$, el cual no será constante si variamos $V$ o $I$. \n",
    "\n",
    "Pudimos corroborar experimentalmente lo anterior pero utilizamos dos herramientas adicionales que nos permitieron comprobar esto. En primer lugar utilizamos el software *Crocodile Physics* para hacer una réplica del circuito y simular su comportamiento en las distintas configuraciones de los interruptores. En efecto vimos que los focos que se conectan en paralelo brillan con mayor intensidad que los que se conectan en serie. Además observamos que para ciertas configuraciones de los interruptores se causa un corto circuito pues la corriente puede pasar por un camino sin resitencia. Finalmente, utilizamos las Leyes de Kirchhoff para hallar las distintas corrientes que pasan por el circuito, indicadas en la figura de abajo. Para cada configuración se mantuvo una diferencia de potencial de $12.9V$ entre las terminales de la batería (conectada) y se midieron las resistencias que representaban cada uno de los focos por los que pasaba corriente. De esta manera pudimos sustituir los focos por resistencias para una configuración dada, pues en ellas se tenía corriente y voltaje constantes. Los resultados se resumen en la tabla que se encentra debajo.\n",
    "\n",
    "<img src=\"Imagenes/Circuitos/Circuito Focos.png\" alt=\"Circuito Focos\">\n",
    "\n",
    "<img src=\"Imagenes/Circuitos/Tabla.png\" alt=\"Tabla de Resultados\">"
   ]
  },
  {
   "cell_type": "markdown",
   "metadata": {},
   "source": [
    "Podemos observar que en todas las configuraciones de los interruptores en donde los focos se conectan en paralelo, la suma de las corrientes en la distintas ramas del circuito dan la corriente total $I_1$. Además, el valor de las resistencias que se midió en cada uno de los focos varía si están conectados en serie o en paralelo. Como ya se mencionó, esto se encuentra relacionado con la potencia que cada elemento disipa y por tanto no se pueden considerar como resistencias constantes para todas las configuraciones, como lo verificamos con el programa. Adicionalmente se encontró que para las configuraciones 1,3,5 y 1,2,3,4,5 se crean cortos circuitos pues la corriente puede fluir por un camino sin resistencia. Finalmente notemos que en los casos en los que no pasa corriente por un elemento no podemos definir una resistencia (al menos no una resistencia finita) lo cual indicamos con un N/A en la tabla."
   ]
  },
  {
   "cell_type": "markdown",
   "metadata": {},
   "source": [
    "##Puente de Wheatstone"
   ]
  },
  {
   "cell_type": "markdown",
   "metadata": {},
   "source": [
    "A continuación presentaremos una aplicación práctica de las leyes de Kirchhoff en la medición de cantidades físicas: el Puente de Wheatstone. Dicho puente consiste en un arreglo de resistencias y un voltímetro como se muestra en la figura de abajo. Se tiene una resistencia desconocida $R_x$ y una variable $R_2$. El concepto general con el que funciona el puente es variar la resistencia $R_2$ de modo que el potencial entre los nodos B y C, medido por el voltímetro $V_G$, sea cero.  \n",
    "\n",
    "<img src=\"Imagenes/Circuitos/Puente de Wheatstone.png\" alt=\"Puente de Wheatstone\">\n",
    "\n",
    "A continuación deduciremos la fórmula para $R_x$ en función de las demás resistencias utilizando las Leyes de Kirchhoff. Nos fijamos en las corrientes que pasan por los nodos B y C. Dado que $I_G=0$ cuando el potencial entre los nodos está balanceado, obtenemos las siguientes ecuaiones:\n",
    "\n",
    "\\begin{array}{rcccl} I_1 &=& I_G+I_2 &=& I_2\\\\\n",
    "                     I_x &=& I_3+I_G &=& I_3 \\end{array} \n",
    "\n",
    "Ahora nos fijamos en las caidas de potencial en las mallas ABC y CDB. Cuando el potencial entre los nodos B y C está balanceado $V_G=0$ por lo que tenemos que:\n",
    "\n",
    "\\begin{array}{rccclrccl}R_1 I_1 + V_G - R_3 I_3 &=& R_1 I_1 - R_3 I_3 &=& 0 &\\quad \\Rightarrow& R_1 I_1 &=& R_3 I_3\\\\\n",
    "                        R_x I_x - R_2 I_2 + V_G &=& R_x I_x - R_2 I_2 &=& 0 &\\quad \\Rightarrow& R_x I_x &=& R_2 I_2 \\end{array}\n",
    "\n",
    "A continuación despejamos $R_x$ de la última ecuación y, dado que $R_1 I_1 = R_3 I_3$ obtenemos que:\n",
    "\n",
    "$$R_x=\\frac{R_2 I_2}{I_x}=\\frac{R_2 I_2}{I_x} \\frac{R_3 I_3}{R_1 I_1}=\\frac{R_2 R_3}{R_1}$$\n",
    "\n",
    "donde pudimos cancelar las corrientes en la última igualdad debido a que $I_1=I_2$ y que $I_3=I_x$.\n",
    "\n",
    "**La Presición de la Medición de $V_G$**\n",
    "\n",
    "Ahora, la razón por la cual éste método es efectivo para hallar el valor de $R_x$ es que el valor de $V_G$ lo podemos obtener de manera muy precisa como veremos a continuación. En primer lugar, recordamos que $V_G$ es la diferencia de potencial entre los nodos B y C en el diagrama, es decir que $V_G=\\phi_B-\\phi_C$, el cual buscamos expresar en términos de las resistencias y del potencial de salida $V_S$. Para esto consideraremos que el potencial es cero en la terminal negativa de la pila o batería, con lo cual $V_S=\\phi_+ - \\phi_-=\\phi_+$. Además sabemos que éste potencial entre las terminales de la batería es independiente del camino que se utilize para definirlo, por lo cual podemos utilizar la Ley de Ohm para expresar la caida del potencial de la corriente por los caminos ABD y ACD. Además, consideraremos que la resistencia del voltímetro $R_G$ es muy grande comparado con $V_G$, con lo cual la corriente $I_G=\\frac{V_G}{R_G}$ es despreciable. Entonces las suma de corrientes en cada nodo nos da que:\n",
    "\n",
    "\\begin{array}{rcccl} I_1 &=& I_G+I_2 &=& I_2 \\\\ I_x &=& I_3+I_G &=& I_3 \\end{array}\n",
    "\n",
    "De este modo, podemos utilizar las distintas expresiones para $V_S$ para obtener que:\n",
    "\n",
    "\\begin{array}{} V_S &=& I_1 R_1 + I_2 R_2 &=& I_2(R_1 + R_2) &\\quad \\Rightarrow& I_2 &=& \\frac{V_S}{R_1 + R_2} \\\\\n",
    "                V_S &=& I_3 R_3 + I_x R_x &=& I_x(R_3 + R_x) &\\quad \\Rightarrow& I_x &=& \\frac{V_S}{R_3 + R_x} \\end{array}\n",
    "\n",
    "Ahora, utilizando las ecuaciones anteriores hallamos la siguiente expresión para $\\phi_B$ y $\\phi_C$:\n",
    "\n",
    "\\begin{array}{} \\phi_B &=& V_S - I_1 R_1 &=& I_2 R_2 &=& \\frac{R_2}{(R_1 + R_2)} V_S \\\\\n",
    "                \\phi_C &=& V_S - I_3 R_3 &=& I_x R_x &=& \\frac{R_x}{(R_3 + R_x)} V_S\n",
    "\\end{array}\n",
    "\n",
    "Por tanto, al restar las últimas ecucuaciones obtenemos que:\n",
    "\n",
    "$$V_G = \\phi_B-\\phi_C = (\\frac{R_2}{R_1 + R_2} - \\frac{R_x}{R_3 + R_x}) V_S$$\n",
    "\n",
    "Observamos que cuando $V_G=0$ podemos despejar $R_x$ de la expresión en paréntesis y obtener la expresión $R_x=\\frac{R_2 R_3}{R_1}$.\n",
    "\n",
    "Debido a que el factor de proporcionalidad entre ambos potenciales involucra una resta, la cual se aproxima a cero conforme hacemos tender $R_2$ a $\\frac{R_x R_1}{R_3}$, podemos obtener una medición de $R_x$ mucho más precisa que simplemente utilizar el cociente $R_x=\\frac{V}{I}$ donde $R_x$ es la única resistencia en el circuito y está conectada en serie. En el laboratorio utilizamos éste método para medir varias resistencias y comparamos estas las mediciones con las realizadas directamente con el multímetro. Se halló que el error relativo a las mediciones hechas con el puente era menor al 1.5%.    "
   ]
  },
  {
   "cell_type": "markdown",
   "metadata": {},
   "source": [
    "##Bibliografía"
   ]
  },
  {
   "cell_type": "markdown",
   "metadata": {},
   "source": [
    "-Purcell Edward M, Morin David J, *Electricity and Magnetism*, Cambridge University Press, 3a Edición, 2014, pp 178-189,204-215\n",
    "\n",
    "-Griffiths David J, *Introduction to Electrodynamics*, Prentice Hall, 3a Edición, 1999, pp 208-214"
   ]
  }
 ],
 "metadata": {
  "kernelspec": {
   "display_name": "Python 2",
   "language": "python",
   "name": "python2"
  },
  "language_info": {
   "codemirror_mode": {
    "name": "ipython",
    "version": 2
   },
   "file_extension": ".py",
   "mimetype": "text/x-python",
   "name": "python",
   "nbconvert_exporter": "python",
   "pygments_lexer": "ipython2",
   "version": "2.7.8"
  }
 },
 "nbformat": 4,
 "nbformat_minor": 0
}
