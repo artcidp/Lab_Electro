{
 "cells": [
  {
   "cell_type": "markdown",
   "metadata": {},
   "source": [
    "#Inducción Electromagnética"
   ]
  },
  {
   "cell_type": "markdown",
   "metadata": {
    "collapsed": true
   },
   "source": [
    "En esta parte nos enfocamos en estudiar el campo magnético y las maneras de generarlo. En el desarrollo de la teoría de Electromagnetismo se define el campo magnético $\\vec{B}$ como aquel que ejerce una fuerza sobre una partícula con carga $q$ que se mueve con velocidad $\\vec{v}$ que está dada por: $\\vec{F}=q \\vec{v}\\times \\vec{B}$. Sin embargo, el estudio del magnetismo inició con la descripción de la interacción etre imanes e imanes con materiales férricos. Posteriormente, Oersted descubrió que dichos campos también pueden ser generados por corrientes eléctricas y posteriormente Faraday complementó con el descubrimiento de la inducción electromagnética. En el laboratorio replicamos los tres experimentos que demuestran estos fenómenos y los estudiamos de manera cualitativa. \n",
    "\n",
    "\n",
    "**Corrientes Constantes Producen Campos Magnéticos** \n",
    "\n",
    "Para esta réplica del experimento de Oersted, construimos una bobina utilizando alambre de cobre la cual conectamos a una batería de 12V. No fué necesario colocar una resistencia debido a que el cable era considerablemente largo y por tanto la resistencia total que ejercia al paso de corriente evitó que hubiese un corto circuito, sin embargo el alambre sí aumento perceptíblemente su temperatura. Dado que la batería puede proporcionar una diferencia constante de potencial al circuito a lo largo del experimento, consideramos que la corriente era del tipo estacionario. Al acerccar la bobina a una brújula que se encontraba sobre la mesa, pudimos apreciar que la aguja se orientaba en la dirección en la que se encontraba la bobina, estando previamente apuntando en dirección norte. Además nos percatamos de que si cambiabamos la orientación de la corriente (al invertir las conexiones de la batería) o volteábamos la bobina, la aguja ahora se orientaba en sentido opuesto a la bobina. A continuación, tomamos un imán de barra y lo acercamos a la aguja. Observamos que en un inicio la aguja se orientaba en la dirección del polo norte del imán pero al voltearlo la aguja se oriento en sentido opuesto al polo sur del imán. \n",
    "\n",
    "En general, pudimos concluir que la brújula se comportaba de igual manera ante la bobina que ante el imán, salvo que en éste último la interacción era más intensa y podía ocurrir a mayores distancias que la de la bobina. Aunque ésta diferencia en la intensidad de la interacción usualmente se atribuye a la intensidad de la corriente eléctrica, nosotros sólo realizamos el experimento con ésta fuente de potencial y bobina, por lo que sólo tuvimos una intensidad de corriente. Entonces, si los imanes producen un campo magnético, de modo que éste interactúe con la aguja de la brújula, podemos concluir que la bobina también produce un campo magnético debido a la interacción que tiene con la aguja.\n",
    "\n",
    "Debemos observar que la función de los galvanómetros analógicos se basan en el fenómeno anterior. El mecanismo básico consiste en un imán permanente que se encuentra dentro de una pequeña bobina móvil. Cuando se hace pasar corriente por \n",
    "la bobina, ésta genera un campo magnético que interactúa con el imán. Ésto la hace girar y, si se adjunta una aguja se pueden realizar mediciones de la intensidad de la corriente. Adicionalmente se atan unos pequeños resortes a la bobina que ejercen una torca en la dirección opuesta a la que el campo magnético ejerce sobre la bobina, con lo cual la relación entre la desviación angular de la aguja es proporcional a la corriente.\n",
    "\n",
    "**Campos Magnéticos Variantes Inducen Corrientes**\n",
    "\n",
    "A cotinuación nos hicimos la pregunta conversa: ¿pueden los campos magnéticos generar corrientes? Para este experimento utilizamos la misma bobina de alambre de cobre del experimento anterior, solo que en vez de conectarla a una batería para pasar corriente por ella la conectamos a un galvanómetro analógico para medir las corrientes que pasan por la bobina. Utilizamos el mismo imán de barra del experimento anterior. En un inicio acercamos el imán a la bobina y no pudimos medir ningún flujo de corriente por el galvanómetro. A continuación agitamos el imán de frente a la superficie externa de la bobina, con lo cual sí pudimos medir una pequeña corriente oscilante siempre que el iman estuviese en movimiento. Sin embargo, probamos insertar el imán de barra dentro de la bobina y al moverlo obtuvimos una intensidad de corriente aún mayor. Todas las mediciones realizadas estuvieron dentro del rango del galvanómetro y vimos que la intensidad de corriente estuvo entre los 2 y 30 mA. Además, observamos que entre mayor fuese la velocidad que tenía el imán con respecto de la bobina, la intensidad de la corriente llegaba a ser mayor. Debemos observar que el galvanómetro funciona con base en el fenómeno anterior, es decir que no se utilizan corrientes inducidas en el galvanómetro, por lo cual la observación de éste fenómeno es consecuente a la anterior.\n",
    "\n",
    "**Corrientes Variantes Inducen Corrientes**\n",
    "\n",
    "Finalmente realizamos un par de experimentos en los que se ligaban los anterior. Construímos otra bobina con alambre de cobre de la misma altura que la anterior. Sin embargo, en esta ocasión el ancho de la bobina fué mayor con el fin de que la otra cupiese en su interior. La bobina original se conectó al galvanómetro, mentras que la nueva se conectó a la batería de 12V. Al igual que en el experimento anterior no se registró ninguna corriente que pasara por el galvanómetro cuando ambas bobinas estan en reposo relativo. A continación desplazamos a cada bobina con respecto de la otra, que se dejaba quieta. Con esto logramos medir una corriente muy pequeña (menor a 0.5mA) que pasaba por la bobina y, al igual que en el caso anterior, cuyo sentido dependía de la orientación de la corriente que pasaba por la otra bobina y del movimiento relativo entre ambas. Además, observamos que la corriente inducida era casi imperceptible cuando sacabamos la bobina interior y la movíamos por el lado de la otra. \n",
    "\n",
    "En otro experimento, se conectó un reóstato para tener una resistencia variable y así controlar la corriente que pasaba por la bobina exterior; se dejaron ambas bobinas en reposo, pero se hizo variar la resistencia. Se pudo observar una pequeña corriente inducida en el galvanómetro (que al igual que en el experimento anterior fué menor que 0.5mA). En éste caso tuvimos que hacer variaciones muy rápidas de la resistencia para poder detectar corrientes en el galvanómetro.\n"
   ]
  },
  {
   "cell_type": "markdown",
   "metadata": {},
   "source": [
    "#Fuerzas entre cables"
   ]
  },
  {
   "cell_type": "markdown",
   "metadata": {},
   "source": [
    "Ya vimos que cuando una corriente fluye por un cable, éste produce un campo magnético y que, al variar la intensidad de la corriente, podemos hacer que el campo magnético varía y así inducir una corriente en otro cable. En el siguiente experimento estudiamos lo que sucede con dos cables por los que pasa una corriente eléctrica. Sabemos que cada uno produce un campo magnético,por lo que esperaríamos que éstos se repelieran o atrajeran si se encuentran a una distancia relativamente pequeña. \n",
    "\n",
    "###Experimento Cualitativo\n",
    "\n",
    "El primer experimento tenía como objetivo corroborar lo anterior de manera cualitativa. Utilizamos dos soportes universales separados una distancia de 30cm para extender un cable de cobre entre entre ellos de modo que el cable se enrede por lados opuestos de los postes y tenga dos porciones paralelas entre sí. De este modo, al conectar los extremos del cable a una batería de $12V$, la corriente directa que pase por el cable iría en direcciones opuestas en las diferentes porciones del cable. En lugar de utilizar una resistencia, utilizamos un cable de alrededor de 3m que enredamos en uno de los soportes para obtener resistencia que impidiese que hubiera un corto circuito. En el momento en que conectamos los cables a la batería, en efecto, observamos que se atraían, sin embargo ésta fuerza producía una oscilación en los cables y tuvimos que ser cuidadosos para evitar un corto circuito. En este paso no realizamos el experimento para el caso en que ambas corrientes están orientadas en el mismo sentido, pues lo hizimos en el segundo experimeto.\n",
    "\n",
    "###Obtener el campo Magnético\n",
    "\n",
    "Antes de describir lo que realizamos en el segundo experimento, donde se hizo un análisis cualitativo de la fuerza entre los cables, debemos tener una manera de calcular el campo magnético que produce un cable recto por el que pasa corriente. En este caso, despreciaremos el grosor del cable y nos enfocaremos en la distancia que hay entre éste y el punto en donde se mide el campo magnético, además consideraremos que la corriente es estacionaria en todo el sistema. Para esto se puede utilizar la Ley de Biot-Savrat, segun la cual el campo magnético $B$ generado por la corriente $I$ que pasa por un cable $C$ se puede hallar mediante la siguiente expresión: $B=\\frac{\\mu_0 I}{4 \\pi} \\int\\limits_{C}\\frac{d\\vec{l}\\times\\hat{r}}{r^2}$. Donde $\\vec{r}$ es el vector que va de un punto $\\vec{x}$ sobre el cable, hasta el punto $\\vec{x_0}$ donde se está midiendo el campo magnético. Esto nos indica que para cada punto en el espacio, debemos integrar sobre todo el cable para obtener la medida del campo magnético allí. De aquí también podemos obtener que $\\nabla \\cdot \\vec{B} = 0$, pues la  integral sólo depende de las variables primadas y podemos y operador de divergencia conmuta con la integral. Por tanto, en el caso de un cable recto, las líneas de campo sólo describen trayectorias cerradas alrededor de éste, sin que existan fuentes o sumideros.\n",
    "\n",
    "<img src=\"Imagenes/Magnetismo/Ley de Biot Savat.png\" width=\"210\" alt=\"Biot Savart\">\n",
    "\n",
    "La permiabilidad magnética del aire $\\mu_1$ es casi igual a la del vacío, por lo que las consideramos iguales en este experimento. Sin embargo, podemos hacer un par de consideraciones adicionales que nos permiten simplificar el cálculo del campo magnético. En primer lugar, ignoraremos los efectos que tendría el borde en el campo magnético, es decir que para puntos que no esten cerca de los bordes del cable podemos considerar que éste es infinito. Con esto, el campo magnético será igual para cualquier plano perpendicular al cable. Además, un cable recto tiene simetría cilíndrica, por lo que el campo magnético sólo dependerá de la distancia al cable y de la corriente que pase por éste. Bajo estas hipótesis podemos utilizar la Ley de Ampere, que nos dice que el campo magnético a lo largo de una trayectoria cerrada $C$ es tal que: \n",
    "\n",
    "$$\\oint\\limits_{C} \\vec{B} \\cdot d\\vec{s}= \\mu_0 I_{enc}$$ \n",
    "\n",
    "Donde $I_{enc}$ es la corriente que encierra la trayectoria $C$, la cual gira entorno a esta sólo una vez. Esta suposición es válida siempre y cuando la corriente encerrada sea uniforme. \n",
    "\n",
    "<img src=\"Imagenes/Magnetismo/Ley de Ampere.png\" width=\"420\" alt=\"Ley de Ampere\">\n",
    "\n",
    "Ahora, si regresamos a la Ley de Biot-Savart veremos que el factor $d\\vec{l} \\times \\hat{r}$ determina la dirección del campo eléctrico que aporta una porción del cable. De aquí podemos inferir la dirección del campo magnético en el caso del cable y la Ley de Ampere. Dado que el cable es recto, $d\\vec{l}$  siempre apunta en la misma dirección, paralela a éste. Además, para un punto $\\vec{x_0}$ fuera del cable sólo debemos considerar el punto $\\vec{x}$ sobre el cable tal que $\\vec{r_0}=\\vec{x_0}-\\vec{x}$ es perpendicular al cable debido a que el aporte de los demás puntos del cable, se compensa en el proceso de integración. Por tanto, el campo magnético tendrá dirección $d\\vec{l}\\times\\vec{r}$ como se puede ver en la figura anterior. Ahora, si elegimos una trayectoria $C$ que sea circular, con el cable como centro, y que se encuentre en un plano perpendicular éste, tendremos que el vector tangente $d\\vec{s}$ será paralelo al campo magnético $\\vec{B}$ en cada punto. Entonces, basta elegir una orientación de la curva tal que ésta circule alrededor del cable en sentido antihorario visto desde donde la corriente sale del plano. Con esto, la ley de ampere nos da que: \n",
    "\n",
    "$$\\oint\\limits_{C} \\vec{B} \\cdot d\\vec{s}= \n",
    "\\oint\\limits_{C} \\left\\Vert \\vec{B}\\right\\Vert d{s} = \n",
    "\\left\\Vert \\vec{B}\\right\\Vert \\oint\\limits_{C}  d{s} =\n",
    "\\left\\Vert \\vec{B}\\right\\Vert 2 \\pi R = \n",
    "\\mu_0 I     \\quad \\Rightarrow \\left\\Vert \\vec{B}\\right\\Vert = \n",
    "\\frac{\\mu_0 I}{2 \\pi R}$$\n",
    "\n",
    "Donde $R$ es el radio de la trayectoria e $I$ es la corriente que pasa por el cable. Finalmente, si consideramos que   $\\hat{\\theta}$ es la dirección en el plano que es perpendicular a la corriente y que es perpendicular a $\\vec{r_0}$ tenemos que: \n",
    "\n",
    "$$\\vec{B}= \\frac{\\mu_0 I}{2 \\pi R} \\hat{\\theta}$$\n"
   ]
  },
  {
   "cell_type": "markdown",
   "metadata": {},
   "source": [
    "###Experimento Cuantitativo\n",
    "\n",
    "Ahora deseábamos obtener una medición más precisa de la fuerza que hay entre dos cables por los que pasan corrientes. En primer lugar deseábamos que los cables fuesen rígidos para no tener que considerar la deformación que éstos sufren. Deseábamos controlar y medir la corriente, la cual debía ser además corriente directa. Para ello utilizamos el arreglo que se muestra en la siguiente figura.\n",
    "\n",
    "<img src=\"Imagenes/Magnetismo/Arreglo.png\" alt=\"Arreglo\">\n",
    "\n",
    "**El Arreglo Experimental**\n",
    "\n",
    "En primer lugar, conectamos un Variac o auto-tranformador a la toma de corriente, el cual tiene la función de regular la diferencia de potencial entre ambas términales de corriente y así, conectado a una carga dada en el circuito, controlar mediante una perilla la intensidad de la corriente que fluye por el circuito. Debemos tomar en cuenta que la fuente de alimentación proporciona corriente alterna al Variac, por lo que es más correcto hablar de controlar la amplitud de la intensidad de corriente. \n",
    "\n",
    "Ahora, dado que buscamos que la corriente que pase por ambos cables sea elevada, conectamos un transformador que redujera el voltaje para así incrementar la corriente que nos proporciona el Variac. De manera burda podemos considerar un transformador ideal, en el que no hay pérdidas de energía debido a la disipación de calor y el flujo magnético generado en una bobina se transfiere íntegramente a la otra. Consideremos que la bobina primaria tiene $N_P$ vueltas del alambre y la secundaria tiene $N_S$ vueltas. Debido a la oscilación de la corriente $I_P$ en el embobinado primario se genera un flujo magnético $\\Phi_P$ que cambia con el tiempo. Sabemos que la Fuerza Electromotriz que induce el cambio en el flujo es tal que $\\mathcal{E}_P=- N_P \\frac{d\\Phi_P}{dt}$ y que la fem correspondiente en la bobina secundaria es tal que $\\mathcal{E}_S=- N_S \\frac{d\\Phi_S}{dt}$. Dado que supusimos que el flujo magnético se transfiere íntegramente de una bobina a otra (en la práctica esto se facilita bastante debido a que el núcleo del transformador sirve como guía del campo magnético) tenemos que $\\frac{d\\Phi}{dt}=\\frac{d\\Phi_P}{dt}=\\frac{d\\Phi_S}{dt}$. Por tanto, obtenemos que $\\frac{\\mathcal{E}_P}{N_P}=\\frac{\\mathcal{E}_S}{N_S} \\quad \\Rightarrow \\frac{\\mathcal{E}_P}{{\\mathcal{E}_S}}=\\frac{N_P}{N_S}$. Ahora, para cada instante de tiempo podemos fijarnos en la trayectoria cerrada que definen cada uno de los embobinados. Dado que el potencial eléctrico depende únicamente de los puntos inicial y final de la trayectoria, tenemos que los potenciales deben ser iguales y opuestos en ambos casos. Es decir que $V_P=-\\mathcal{E}_P$ y $V_S=-\\mathcal{E}_S$. De éste modo obtenemos que $\\frac{V_P}{V_S}=\\frac{N_P}{N_S}$. Esto nos permite aumentar o disminuir el voltaje de salida $V_S$ según la proporción entre el número de vueltas en ambas bobinas. Ahora, dado que asumimos que no hay pérdidas de energía en el trasformador, la potencia (energía por unidad de tiempo) que pasa por una bobina debe ser igual que en la otra, es decir $P=V_P I_P = V_S I_S$ de donde podemos obtener la siguiente relación entre las intensidades de corriente y las vueltas en ambas bobinas: $\\frac{N_P}{N_S}=\\frac{I_S}{I_P}$. Por tanto, para aumentar la corriente que sale del transformado, debemos por fuerza disminuir el voltaje.   \n",
    "\n",
    "<img src=\"Imagenes/Magnetismo/Transformador.png\" alt=\"Transformador\">\n",
    "\n",
    "Dado que la corriente proporcionada hasta este punto es alterna, la dirección de la corriente cambiará continuamente varias veces por segundo y  no podremos apreciar una interacción entre los cables. Esto lo comprobamos conectando el transformador directamente a la balanza de corrientes: al incrementar la corriente que pasaba por el circuito, no apreciamos ninguna fuerza entre los cables. Por esa razón se conecta un puente de diodos después del tranformador. Su función básica es convertir corriente directa y corriente alterna. Al explotar la propiedad de los diodos de sólo permitir pasar corriente en una dirección se puede nulificar o rectificar la parte negativa de una señal de corriente alterna. Sin embargo, como se aprecia en la imagen de abajo, ésto únicamente permite aprovechar la parte positiva de la intensidad de corriente. Al utilizar un arreglo de diodos en puente, se puede obtener una rectificación completa de la señal en forma de corriente directa y así aprovechar tanto la parte positiva como la negativa de la señal. Sin embargo, la corriente aún no es completamente uniforme pues a pesar de simpre fluir en la misma dirección, su intensidad oscila con el tiempo. En circuitos electrónicos se suelen utilizar capacitores para homogeneizar esta señal y tener algo que, dentro de ciertos parámetros, se pueda considerar como una corriente homogénea. Sin embargo, dado que la oscilación sucede decenas de veces por segundo, no es perceptible en ninguna fuerza macroscópica, como pudimos comprobar experimentalmente. Como hipótesis diríamos que la corriente efectiva que se utilizó en el experimento, y que se midió en el amperímetro analógico conectado después del puente, es el promedio temporal de la señal de corriente.\n",
    "\n",
    "<img src=\"Imagenes/Magnetismo/Rectificacion.png\" width=\"450\" alt=\"Rectificación\">\n",
    "\n",
    "Finalmente, ya con una fuente efectiva de corriente directa, conectamos la balanza de corrientes para así cerrar el circuito. Esta balanza contaba con un espejo montado sobre el eje de rotación y, al apuntar un láser hacia éste, pudimos medir con gran precisión las desviaciones de la balanza que ocasionaba la repulsión de las corrientes al medir el moviento del reflejo del láser en la pared. Uno de los cables por los que pasaba la corriente estaba fijo en su lugar, por lo que la única desviación que medimos era la del otro cable, que también tenía funjía como brazo de palanca en la balanza. Dicho brazo se fijó de modo que hubiese una pequeña separación entre ambos cables cuando no pasara corriente."
   ]
  },
  {
   "cell_type": "markdown",
   "metadata": {},
   "source": [
    "**Cálculo de la Fuerza**\n",
    "\n",
    "Primero, realizaremos una estimación teórica de la fuerza medida mediante el campo magnético. Consideremos dos cables paralelos por los que pasan dos corrientes $I_1$ e $I_2$ en direcciones opuestas y separados una distancia $r$ que es pequeña con respecto a la longitud $L$ del cable por el que pasa $I_2$. Además, consideraremos que el cable por el que pasa $I_1$ es de longitud infinita con el fin de ignorar efectos en los extremos. Recordamos que, al despreciar el ancho del cable podemos utilizar la Ley de Ampere $\\oint\\limits_{C} \\vec{B} \\cdot d\\vec{s}= \\mu_0 I_{enc}$ para obtener que el camp magnético generado por el cable infinito es $\\vec{B}= \\frac{\\mu_0 I_1}{2 \\pi R} \\hat{\\theta}$. Ahora, si nos fijamos en el otro cable, la fuerza que el campo magnético genera en el i-ésimo electrón del segundo cable es $\\vec{F}_i=\\vec{v}_i \\times e^- \\vec{B}$ (la componente magética de la Fuerza de Lorentz). Por tanto, la fuerza total la obtedríamos al sumar las fuerzas ejercidas sobre cada electrón, pero como la carga y el campo magnético percivido es el mismo para cada partícula podemos sacar el segundo factor de la suma  y obtener que $\\vec{F}_{12}= \\sum\\limits_{i}\\vec{v}_i \\times e^- \\vec{B}$. A continuación buscaremos reexpresar la suma vectorial de las velocidades. Supongamos que tenemos en total $n$ electrones en dentro del cable. En este caso, podemos escribir la suma como $\\sum\\limits_{i}\\vec{v}_i=n \\vec{v}_{prom}=\\lambda L \\ \\vec{v}_{prom}$ donde $L$ es la longitud del cable y $\\lambda$ es el número de electrones en movimiento por unidad de longitud. Con esto, la fuerza total queda expresada como \n",
    "\n",
    "$$\\vec{F}_{12} = \\lambda L \\ \\vec{v}_{prom} \\times e^- \\vec{B} = \n",
    "\\lambda L \\ \\vec{v}_{prom} \\times e^- \\frac{\\mu_0 I_1}{2 \\pi r} \\hat{\\theta} =\n",
    "\\lambda L \\ v_{prom} \\ e^- \\frac{\\mu_0 I_1}{2 \\pi r} \\hat{v}\\times \\hat{\\theta}$$\n",
    "\n",
    "Ahora, si ambas corrientes están en la misma dirección (imaginemos que los vectores de velocidad entran a la pantalla) entones $\\hat{v}\\times \\hat{\\theta}=\\hat{r}$, donde $\\hat{r}$ es el vector unitario que va del primer cable (infinito) al segundo cable (de longitud L) en donde se percive el campo magnético. Dado que $e^-<0$ y todas las demás constantes son positivas, la fuerza resultante es de atracción. Si ahora una de las corrientes, por ejemplo $I_2$, tiene sentido conrario, entonces $\\hat{v}\\times \\hat{\\theta}=-\\hat{r}$ y con esto la fuerza resultante será de repulsión.\n",
    "\n",
    "A continuación buscaremos reexpresar las constantes en la fórmula en términos de la corriente $I_2$. Si nos fijamos en un punto del cable, que consideramos es de ancho despreciable, la cantidad de carga que pasa en un intervalo $\\Delta t$ es $Q=v_{prom}\\Delta t \\ \\lambda e^-$. Aquí debemos considerar que el intervalo de tiempo es lo suficientemente grande como para que pase un número significativo de partículas (electrones en este caso) por el punto indicado. Por tanto podemos escribir $I_2=\\frac{Q}{\\Delta t}=v_{prom}\\lambda e^-$. Por tanto, la fuerza la podemos escribir como\n",
    "\n",
    "$$\\vec{F}_{12}=\\lambda L \\ v_{prom} \\ e^- \\frac{\\mu_0 I_1}{2 \\pi r} \\hat{v}\\times \\hat{\\theta}=\n",
    " \\mp L \\frac{\\mu_0 I_1 I_2}{2 \\pi r} \\hat{r}$$\n",
    " \n",
    "Si ambas corrientes están en la misma dirección, la fuerza es atractiva y se utiliza $-\\hat{r}$. Si están en direcciones opuestas, la fuerza es repulsiva y se utiliza $\\hat{r}$. Este resultado se conoce como Ley de Fuerzas de Ampere. \n",
    "\n",
    "**Medición de la Fuerza**\n",
    "\n",
    "Ya con el arreglo montado, para medir la fuerza registramos el desplazamiento en la altura $h$ del haz con respecto a su posición de reposo, como se muestra en el diagrama, y la corriente que medíamos en el amperímetro. Despreciando la resistencia del cable por el que fluye la corriente, tenemos que $I= I_1= I_2$, por lo que la corriente del amperímetro es la misma que pasa por ambos cables. Los cables en la balanza estaban en un principio conectados de modo que las corrientes fuesen en sentidos opuestos, por lo que la fuerza resultaba repulsiva. Sin embargo, también hizimos la prueba con corrientes en el mismo sentido y vimos que era atractiva (no se realizaron mediciones para este caso). \n",
    "\n",
    "Además, en un inicio medimos la longitud $d$ del brazo de palanca, es decir la distancia entre el cable y el eje de rotación de la balanza. También medimos la distancia horizontal $a$ entre la balanza y la pared y la distancia vertical $b'$ entre el haz del laser en su posición de reposo y la altura de la balanza. Para esto último nos percatamos de que el láser no era completamente paralelo al brazo de la balanza, por lo que había una corrección que se requería hacer a la altura $b'$ para poder hallar $b$ y con ella $\\theta$, el ángulo formado ambos brazos de la balanza. Para esto simplemente ajustamos la balanza de modo que el brazo quedase en posición horizontal y medimos el ángulo $\\alpha$ de desviación entre el haz reflejado y el brazo de la balanza. Adicionalmente se hizo una corrección adicional para $h$ debido a que, a pesar de que el desplazamiento de la balanza $\\Delta \\theta$ no se ve afectado por la alineación del láser, sí cambian las mediciones hechas en $h$ cuando la escala y la posición en reposo del láser se desplazan.  \n",
    "\n",
    "\n",
    "<img src=\"Imagenes/Magnetismo/Triangulo.png\" width=\"740\" alt=\"Triangulo\">\n",
    "\n",
    "\n",
    "Después de hacer las correcciones y obtener $b$ y $h$ pudimos hallar los ángulos $\\theta$ y $\\Delta \\theta$. A partir de éstos obtuvimos $r$ (la distancia entre los cables) y finalmente lo utilizamos para calcular la magnitud de la fuerza $F_{mag}$ de repulsión entre los cables. Por otro lado, observamos que la balanza se comportaba de manera similar a un oscilador armónico rotacional, es decir que la torca de restauración (y por ende la fuerza) que proporcionaba la balanza para equilibrar la repulsión entre los cables debía ser proporcional al desplazamiento angular $\\Delta \\theta$ desde su posición de resposo. Esto lo supusimos dado que la balanza oscilaba con una frecuencia particular al empujarla fuera de su posición de reposo. Entonces, utilizando los datos obtenidos previamente realizamos la siguiente gráfica de desplazamiento angular contra la fuerza de repulsión calculada.  \n",
    "\n",
    "<img src=\"Imagenes/Magnetismo/Datos.png\" alt=\"Datos\">\n",
    "\n",
    "Como podemos observar, ésta tiene una fuerte correlación lineal, salvo por los puntos inferiores. Ésta desviación se debe a que el desplazamiento del láser para pequeñas corrientes era menor que nuestra escala mínima. Aún así, la fuerza de restitución podría en efecto ser proporcional al desplazamiento angular de la balanza considerando ángulos pequeños como en éste experimento y despreciando la fricción. Aunque se pudimos medir la frecuencia de oscilación con un cronómetro (contando 10 oscilaciones y dividiendo el total entre 10), también es necesario conocer el momento de inercia de la balanza para poder determinar si en efecto el comportamiento es aquel de un oscilador armónico. "
   ]
  },
  {
   "cell_type": "markdown",
   "metadata": {},
   "source": [
    "##Bibliografía"
   ]
  },
  {
   "cell_type": "markdown",
   "metadata": {},
   "source": [
    "-Purcell Edward M, Morin David J, *Electricity and Magnetism*, Cambridge University Press, 3a Edición, 2014, pp 277-293\n",
    "\n",
    "-Griffiths David J, *Introduction to Electrodynamics*, Prentice Hall, 3a Edición, 1999, pp 202-221, 301-316"
   ]
  }
 ],
 "metadata": {
  "kernelspec": {
   "display_name": "Python 2",
   "language": "python",
   "name": "python2"
  },
  "language_info": {
   "codemirror_mode": {
    "name": "ipython",
    "version": 2
   },
   "file_extension": ".py",
   "mimetype": "text/x-python",
   "name": "python",
   "nbconvert_exporter": "python",
   "pygments_lexer": "ipython2",
   "version": "2.7.8"
  }
 },
 "nbformat": 4,
 "nbformat_minor": 0
}
